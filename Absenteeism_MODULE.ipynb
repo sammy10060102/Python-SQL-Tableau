{
 "cells": [
  {
   "cell_type": "code",
   "execution_count": null,
   "id": "6c9f5c7a",
   "metadata": {},
   "outputs": [],
   "source": [
    "#Creating a MODULE for later use of the logistic model - getting the ML learning ready for deployment\n",
    "\n",
    "import pandas as pd\n",
    "import numpy as np\n",
    "import pickle\n",
    "\n",
    "from sklearn.preprocessing import StandardScaler\n",
    "from sklearn.model_selection import train_test_split\n",
    "from sklearn.base import BaseEstimator , TransformerMixin\n",
    "\n",
    "from sklearn.linear_model import LogisticRegression\n",
    "from sklearn import metrics\n"
   ]
  },
  {
   "cell_type": "code",
   "execution_count": null,
   "id": "8507f0c8",
   "metadata": {},
   "outputs": [],
   "source": [
    "#CUSTOM SCALER CLASS\n",
    "\n",
    "class CustomScaler(BaseEstimator,TransformerMixin):\n",
    "    \n",
    "    def __init__(self,columns,copy=True,with_mean=True,with_std=True):\n",
    "        self.scaler = StandardScaler(copy,with_mean,with_std)\n",
    "        self.columns = columns\n",
    "        self.mean_ = None\n",
    "        self.var_ = None\n",
    "        \n",
    "    def fit(self,X, y = None):\n",
    "        self.scaler.fit(X[self.columns], y)\n",
    "        self.mean_ = np.mean(X[self.columns])\n",
    "        self.var_ =np.var(X[self.columns])\n",
    "        \n",
    "    def transform(self,X , y=None, copy=None):\n",
    "        init_col_order = X.columns\n",
    "        X_scaled = pd.DataFrame(self.scaler.transform(X[self.columns]), columns =self.columns)\n",
    "        X_not_scaled = X.loc[:,~X.columns.isin(self.columns)]\n",
    "        return pd.concat([X_not_scaled, X_scaled], axis=1)[init_col_order]"
   ]
  },
  {
   "cell_type": "code",
   "execution_count": 3,
   "id": "3f184cc0",
   "metadata": {},
   "outputs": [],
   "source": [
    "\n",
    "#storing code in a module will allow us to resue it without trouble\n",
    "\n",
    "\n",
    "#create the special class that we are going to use from here on to predict data\n",
    "\n",
    "class absenteeism_model():\n",
    "    def __init__(self,model_file,scaler_file):\n",
    "    #read the 'model' and ' scaler' files which were saved\n",
    "        with open('model','rb') as model_file, open('scaler','rb') as scaler_file:\n",
    "            self.reg = pickle.load(model_file)\n",
    "            self.scaler = pickle.load(scaler_file)\n",
    "            self.data = None\n",
    "            \n",
    "    \n",
    "    #take a data file (*.csv) and preprocessed it in the same \n",
    "    def load_and_clean_data(self,data_file):\n",
    "        \n",
    "        #import the data\n",
    "        df = pd.read_csv(data_file,delimiter-',')\n",
    "       \n",
    "        # store the data in a new variable for later use\n",
    "        self.df_with_predictions = df.copy()\n",
    "        \n",
    "        # drop the \"ID\" column\n",
    "        df = df.drop(['ID'], axis=1)\n",
    "        \n",
    "        #to preserve the code we have created in the previous section, we will add a column with 'Nan' strings\n",
    "        df['Absenteeism Time in Hours'] = 'Nan'\n",
    "        \n",
    "        #create a seperate dataframe, containing dummy values for ALL available reasons\n",
    "        reason_columns = pd.get_dummies(df['Reason for Absence'], drop_first = True)\n",
    "        \n",
    "        \n",
    "        #split reason_columns into 4 types\n",
    "        reason_type_1 = reason_colunms.loc[:,1:14].max(axis=1)\n",
    "        reason_type_1 = reason_colunms.loc[:,15:17].max(axis=1)\n",
    "        reason_type_1 = reason_colunms.loc[:,18:21].max(axis=1)\n",
    "        reason_type_1 = reason_colunms.loc[:,22:].max(axis=1)"
   ]
  },
  {
   "cell_type": "code",
   "execution_count": null,
   "id": "18bc93e2",
   "metadata": {},
   "outputs": [],
   "source": []
  },
  {
   "cell_type": "code",
   "execution_count": null,
   "id": "f5ae443f",
   "metadata": {},
   "outputs": [],
   "source": []
  },
  {
   "cell_type": "code",
   "execution_count": null,
   "id": "6c95b8f7",
   "metadata": {},
   "outputs": [],
   "source": []
  }
 ],
 "metadata": {
  "kernelspec": {
   "display_name": "Python 3",
   "language": "python",
   "name": "python3"
  },
  "language_info": {
   "codemirror_mode": {
    "name": "ipython",
    "version": 3
   },
   "file_extension": ".py",
   "mimetype": "text/x-python",
   "name": "python",
   "nbconvert_exporter": "python",
   "pygments_lexer": "ipython3",
   "version": "3.8.8"
  }
 },
 "nbformat": 4,
 "nbformat_minor": 5
}
